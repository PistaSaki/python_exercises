{
 "cells": [
  {
   "cell_type": "code",
   "execution_count": null,
   "metadata": {},
   "outputs": [],
   "source": [
    "import tensorflow as tf\n",
    "from tensorflow.keras import backend as K\n",
    "import numpy as np\n",
    "from numpy import linalg as la"
   ]
  },
  {
   "cell_type": "markdown",
   "metadata": {},
   "source": [
    "# Numpy\n",
    "Suggested reading:\n",
    "* \"The basics\" part of this tutorial https://docs.scipy.org/doc/numpy/user/quickstart.html#the-basics\n",
    "* broadcasting https://docs.scipy.org/doc/numpy/user/basics.broadcasting.html\n",
    "\n",
    "### Exercise\n",
    "1. Make sure the outputs of the following cells are cleared. You can do this via notebook menu -> Cell -> All Output -> Clear.\n",
    "2. Find a paper and a pencil.\n",
    "3. Take cells one by one. First write down what you expect the output of the cell will be. Then run the cell and check the answer. In some cases you are asked to predict the value of the array, in others only the shape.\n",
    "\n",
    "Sometimes the cell will raise an exception -- you should anticipate that too! You don't have to guess the exact type and message of the exception but it's good to familiarize with them - you will meet them a lot... :)\n",
    "\n",
    "There is also some more advanced stuff marked `# advanced`. Feel free to skip it.\n",
    "\n",
    "If you don't understand why the answer is what it is, don't hesitate to ask me.\n",
    "\n",
    "Remark: I chose numpy-topics that have analogues in tensorflow and I personaly use them a lot. There is definitely much more."
   ]
  },
  {
   "cell_type": "markdown",
   "metadata": {},
   "source": [
    "##### Array creation"
   ]
  },
  {
   "cell_type": "code",
   "execution_count": null,
   "metadata": {},
   "outputs": [],
   "source": [
    "np.arange(3)"
   ]
  },
  {
   "cell_type": "code",
   "execution_count": null,
   "metadata": {},
   "outputs": [],
   "source": [
    "np.arange(-2, 4, 2)"
   ]
  },
  {
   "cell_type": "code",
   "execution_count": null,
   "metadata": {},
   "outputs": [],
   "source": [
    "np.zeros([2, 1])"
   ]
  },
  {
   "cell_type": "code",
   "execution_count": null,
   "metadata": {},
   "outputs": [],
   "source": [
    "np.ones([4, 3, 2, 1]).shape"
   ]
  },
  {
   "cell_type": "code",
   "execution_count": null,
   "metadata": {},
   "outputs": [],
   "source": [
    "np.eye(2)"
   ]
  },
  {
   "cell_type": "code",
   "execution_count": null,
   "metadata": {},
   "outputs": [],
   "source": [
    "np.linspace(0, 1, 5)"
   ]
  },
  {
   "cell_type": "code",
   "execution_count": null,
   "metadata": {},
   "outputs": [],
   "source": [
    "np.diag([1, 2, 3])"
   ]
  },
  {
   "cell_type": "code",
   "execution_count": null,
   "metadata": {},
   "outputs": [],
   "source": [
    "# skip this, too specialised\n",
    "np.mgrid[0:1:3j, 1:2:0.5]"
   ]
  },
  {
   "cell_type": "markdown",
   "metadata": {},
   "source": [
    "##### Indexing 1 dimension"
   ]
  },
  {
   "cell_type": "code",
   "execution_count": null,
   "metadata": {},
   "outputs": [],
   "source": [
    "np.arange(10)[5]"
   ]
  },
  {
   "cell_type": "code",
   "execution_count": null,
   "metadata": {},
   "outputs": [],
   "source": [
    "np.arange(10)[:5]"
   ]
  },
  {
   "cell_type": "code",
   "execution_count": null,
   "metadata": {},
   "outputs": [],
   "source": [
    "np.arange(10)[5:]"
   ]
  },
  {
   "cell_type": "code",
   "execution_count": null,
   "metadata": {},
   "outputs": [],
   "source": [
    "np.arange(10)[-2]"
   ]
  },
  {
   "cell_type": "code",
   "execution_count": null,
   "metadata": {},
   "outputs": [],
   "source": [
    "np.arange(10)[12]"
   ]
  },
  {
   "cell_type": "code",
   "execution_count": null,
   "metadata": {},
   "outputs": [],
   "source": [
    "np.arange(10)[10]"
   ]
  },
  {
   "cell_type": "code",
   "execution_count": null,
   "metadata": {},
   "outputs": [],
   "source": [
    "np.arange(10)[:8:2]"
   ]
  },
  {
   "cell_type": "code",
   "execution_count": null,
   "metadata": {},
   "outputs": [],
   "source": [
    "# advanced\n",
    "indexer = slice(2, 6)\n",
    "x = np.arange(10)\n",
    "x[indexer]"
   ]
  },
  {
   "cell_type": "markdown",
   "metadata": {},
   "source": [
    "##### Indexing two dimensions"
   ]
  },
  {
   "cell_type": "code",
   "execution_count": null,
   "metadata": {},
   "outputs": [],
   "source": [
    "a = np.arange(6).reshape([3, 2])\n",
    "a"
   ]
  },
  {
   "cell_type": "code",
   "execution_count": null,
   "metadata": {},
   "outputs": [],
   "source": [
    "a = np.arange(6).reshape([3, 2])\n",
    "a[1]"
   ]
  },
  {
   "cell_type": "code",
   "execution_count": null,
   "metadata": {},
   "outputs": [],
   "source": [
    "a = np.arange(6).reshape([3, 2])\n",
    "a[-2:]"
   ]
  },
  {
   "cell_type": "code",
   "execution_count": null,
   "metadata": {},
   "outputs": [],
   "source": [
    "a = np.arange(6).reshape([3, 2])\n",
    "a[2, 1]"
   ]
  },
  {
   "cell_type": "code",
   "execution_count": null,
   "metadata": {},
   "outputs": [],
   "source": [
    "a = np.arange(6).reshape([3, 2])\n",
    "a[2, 1, 1]"
   ]
  },
  {
   "cell_type": "code",
   "execution_count": null,
   "metadata": {},
   "outputs": [],
   "source": [
    "a = np.arange(6).reshape([3, 2])\n",
    "a[2][1]"
   ]
  },
  {
   "cell_type": "code",
   "execution_count": null,
   "metadata": {},
   "outputs": [],
   "source": [
    "a = np.arange(6).reshape([3, 2])\n",
    "a[:, 1]"
   ]
  },
  {
   "cell_type": "code",
   "execution_count": null,
   "metadata": {},
   "outputs": [],
   "source": [
    "a = np.arange(6).reshape([3, 2])\n",
    "a[1, :]"
   ]
  },
  {
   "cell_type": "code",
   "execution_count": null,
   "metadata": {},
   "outputs": [],
   "source": [
    "# advanced\n",
    "a = np.arange(6).reshape([3, 2])\n",
    "indexer = (slice(None), 1)\n",
    "a[indexer]"
   ]
  },
  {
   "cell_type": "code",
   "execution_count": null,
   "metadata": {},
   "outputs": [],
   "source": [
    "b = np.arange(3)\n",
    "b[:, None]"
   ]
  },
  {
   "cell_type": "code",
   "execution_count": null,
   "metadata": {},
   "outputs": [],
   "source": [
    "b = np.arange(3)\n",
    "b[None, :]"
   ]
  },
  {
   "cell_type": "code",
   "execution_count": null,
   "metadata": {},
   "outputs": [],
   "source": [
    "# advanced\n",
    "b = np.arange(3)\n",
    "indexer = (slice(None), None)\n",
    "b[indexer]"
   ]
  },
  {
   "cell_type": "markdown",
   "metadata": {},
   "source": [
    "##### Indexing multiple dimensions"
   ]
  },
  {
   "cell_type": "code",
   "execution_count": null,
   "metadata": {},
   "outputs": [],
   "source": [
    "c = np.ones([1, 2, 3, 4])\n",
    "c[0, 1, 2, 3]"
   ]
  },
  {
   "cell_type": "code",
   "execution_count": null,
   "metadata": {},
   "outputs": [],
   "source": [
    "c = np.ones([1, 2, 3, 4])\n",
    "c[:, 1, :, -2:].shape"
   ]
  },
  {
   "cell_type": "code",
   "execution_count": null,
   "metadata": {},
   "outputs": [],
   "source": [
    "c = np.ones([1, 2, 3, 4])\n",
    "c[:, :, None, :, :].shape"
   ]
  },
  {
   "cell_type": "code",
   "execution_count": null,
   "metadata": {},
   "outputs": [],
   "source": [
    "c = np.ones([1, 2, 3, 4])\n",
    "c[:, :, None].shape"
   ]
  },
  {
   "cell_type": "code",
   "execution_count": null,
   "metadata": {},
   "outputs": [],
   "source": [
    "c = np.ones([1, 2, 3, 4])\n",
    "c[..., None].shape"
   ]
  },
  {
   "cell_type": "code",
   "execution_count": null,
   "metadata": {},
   "outputs": [],
   "source": [
    "c = np.ones([1, 2, 3, 4])\n",
    "c[..., None, :].shape"
   ]
  },
  {
   "cell_type": "code",
   "execution_count": null,
   "metadata": {},
   "outputs": [],
   "source": [
    "c = np.ones([1, 2, 3, 4])\n",
    "c[:, None, ..., None, :].shape"
   ]
  },
  {
   "cell_type": "code",
   "execution_count": null,
   "metadata": {},
   "outputs": [],
   "source": [
    "c = np.ones([1, 2, 3, 4])\n",
    "c[..., None, :].shape"
   ]
  },
  {
   "cell_type": "code",
   "execution_count": null,
   "metadata": {},
   "outputs": [],
   "source": [
    "c = np.ones([1, 2, 3, 4])\n",
    "c[..., None, ...].shape"
   ]
  },
  {
   "cell_type": "code",
   "execution_count": null,
   "metadata": {},
   "outputs": [],
   "source": [
    "# advanced\n",
    "c = np.ones([1, 2, 3, 4])\n",
    "indexer = (Ellipsis, None, slice(None))\n",
    "c[indexer].shape"
   ]
  },
  {
   "cell_type": "markdown",
   "metadata": {},
   "source": [
    "##### Reshaping"
   ]
  },
  {
   "cell_type": "code",
   "execution_count": null,
   "metadata": {},
   "outputs": [],
   "source": [
    "c = np.ones([1, 2, 3, 4])\n",
    "c.reshape([2, -1]).shape"
   ]
  },
  {
   "cell_type": "markdown",
   "metadata": {},
   "source": [
    "##### Indexing by boolean array"
   ]
  },
  {
   "cell_type": "code",
   "execution_count": null,
   "metadata": {},
   "outputs": [],
   "source": [
    "d = np.arange(5)\n",
    "mask = [True, False, True, True, False]\n",
    "d[mask]"
   ]
  },
  {
   "cell_type": "markdown",
   "metadata": {},
   "source": [
    "##### Some algebra and broadcasting"
   ]
  },
  {
   "cell_type": "code",
   "execution_count": null,
   "metadata": {},
   "outputs": [],
   "source": [
    "x = np.array([1, 2, 3])\n",
    "2 * x + 1"
   ]
  },
  {
   "cell_type": "code",
   "execution_count": null,
   "metadata": {},
   "outputs": [],
   "source": [
    "x = np.array([1, 2, 3])\n",
    "y = np.array([4, 5])\n",
    "x[:, None] + y[None, :]"
   ]
  },
  {
   "cell_type": "code",
   "execution_count": null,
   "metadata": {},
   "outputs": [],
   "source": [
    "f = np.ones([2, 3])\n",
    "g = np.diag([1, 2, 3])\n",
    "(f + g).shape"
   ]
  },
  {
   "cell_type": "code",
   "execution_count": null,
   "metadata": {},
   "outputs": [],
   "source": [
    "f = np.ones([2, 3])\n",
    "g = np.diag([1, 2, 3])\n",
    "(f @ g).shape"
   ]
  },
  {
   "cell_type": "code",
   "execution_count": null,
   "metadata": {},
   "outputs": [],
   "source": [
    "f = np.ones([2, 3])\n",
    "g = np.diag([1, 2, 3])\n",
    "(g @ f).shape"
   ]
  },
  {
   "cell_type": "code",
   "execution_count": null,
   "metadata": {},
   "outputs": [],
   "source": [
    "x = np.ones([10, 2, 3])\n",
    "y = np.ones([10, 3, 4])\n",
    "(x @ y).shape"
   ]
  },
  {
   "cell_type": "code",
   "execution_count": null,
   "metadata": {},
   "outputs": [],
   "source": [
    "x = np.ones([10, 2, 3])\n",
    "y = np.ones([3, 4])\n",
    "(x @ y).shape"
   ]
  },
  {
   "cell_type": "code",
   "execution_count": null,
   "metadata": {},
   "outputs": [],
   "source": [
    "x = np.ones([10, 2, 3])\n",
    "z = np.ones([10, 3])\n",
    "np.einsum(\"ijk,ik->i\", x, z).shape"
   ]
  },
  {
   "cell_type": "markdown",
   "metadata": {},
   "source": [
    "##### Transposition"
   ]
  },
  {
   "cell_type": "code",
   "execution_count": null,
   "metadata": {},
   "outputs": [],
   "source": [
    "x = np.ones([10, 2, 3])\n",
    "x.T.shape"
   ]
  },
  {
   "cell_type": "code",
   "execution_count": null,
   "metadata": {},
   "outputs": [],
   "source": [
    "x = np.ones([10, 2, 3])\n",
    "np.transpose(x).shape"
   ]
  },
  {
   "cell_type": "code",
   "execution_count": null,
   "metadata": {},
   "outputs": [],
   "source": [
    "x = np.ones([10, 2, 3])\n",
    "np.transpose(x, [0, 2, 1]).shape"
   ]
  },
  {
   "cell_type": "markdown",
   "metadata": {},
   "source": [
    "##### Other matrix tools"
   ]
  },
  {
   "cell_type": "code",
   "execution_count": null,
   "metadata": {},
   "outputs": [],
   "source": [
    "x = np.ones([3, 2, 2])\n",
    "la.det(x)"
   ]
  },
  {
   "cell_type": "code",
   "execution_count": null,
   "metadata": {},
   "outputs": [],
   "source": [
    "x = np.diag([1, 2])\n",
    "la.inv(x)"
   ]
  },
  {
   "cell_type": "markdown",
   "metadata": {},
   "source": [
    "##### Boolean arrays"
   ]
  },
  {
   "cell_type": "code",
   "execution_count": null,
   "metadata": {},
   "outputs": [],
   "source": [
    "b1 = np.array([True, False, True, False])\n",
    "b2 = np.array([True, True, True, False])\n",
    "b1 & b2"
   ]
  },
  {
   "cell_type": "code",
   "execution_count": null,
   "metadata": {},
   "outputs": [],
   "source": [
    "b1 | b2"
   ]
  },
  {
   "cell_type": "code",
   "execution_count": null,
   "metadata": {},
   "outputs": [],
   "source": [
    "~b1"
   ]
  },
  {
   "cell_type": "code",
   "execution_count": null,
   "metadata": {},
   "outputs": [],
   "source": [
    "b1 and b2"
   ]
  },
  {
   "cell_type": "markdown",
   "metadata": {},
   "source": [
    "#### \"Reduction\" operations\n",
    "`sum, mean, prod, all, any, min, max` have similar behavior."
   ]
  },
  {
   "cell_type": "code",
   "execution_count": null,
   "metadata": {},
   "outputs": [],
   "source": [
    "x = np.ones([10, 3])\n",
    "np.sum(x)"
   ]
  },
  {
   "cell_type": "code",
   "execution_count": null,
   "metadata": {},
   "outputs": [],
   "source": [
    "x = np.ones([10, 3])\n",
    "np.sum(x, axis=0)"
   ]
  },
  {
   "cell_type": "code",
   "execution_count": null,
   "metadata": {},
   "outputs": [],
   "source": [
    "x = np.ones([10, 3])\n",
    "np.mean(x, axis=0, keepdims=True).shape"
   ]
  },
  {
   "cell_type": "markdown",
   "metadata": {},
   "source": [
    "### Other tools"
   ]
  },
  {
   "cell_type": "code",
   "execution_count": null,
   "metadata": {},
   "outputs": [],
   "source": [
    "a = np.ones([10, 3, 4])\n",
    "b = np.zeros([10, 3, 4])\n",
    "np.stack([a, b], axis=1).shape"
   ]
  },
  {
   "cell_type": "code",
   "execution_count": null,
   "metadata": {},
   "outputs": [],
   "source": [
    "a = np.ones([10, 3, 4])\n",
    "b = np.zeros([10, 3, 4])\n",
    "np.concatenate([a, b], axis=1).shape"
   ]
  },
  {
   "cell_type": "code",
   "execution_count": null,
   "metadata": {},
   "outputs": [],
   "source": [
    "np.maximum([1, 2, 3, 4], [4, 3, 2, 1])"
   ]
  },
  {
   "cell_type": "code",
   "execution_count": null,
   "metadata": {},
   "outputs": [],
   "source": [
    "np.minimum([1, 2, 3, 4], 2)"
   ]
  },
  {
   "cell_type": "markdown",
   "metadata": {},
   "source": [
    "# Tensorflow\n",
    "\n",
    "## Some differences from `numpy`.\n",
    "Indexing, arithmetic operations and predefined functions (`exp`, `log`, `sin`, ...) are mainly the same in `tensorflow`. Here I list some differences."
   ]
  },
  {
   "cell_type": "code",
   "execution_count": null,
   "metadata": {},
   "outputs": [],
   "source": [
    "# define a tensor\n",
    "a_tf = tf.reshape(tf.range(12), [4, 3])\n",
    "a_tf"
   ]
  },
  {
   "cell_type": "code",
   "execution_count": null,
   "metadata": {},
   "outputs": [],
   "source": [
    "# and an array that contains the same stuff\n",
    "a_np = a_tf.numpy()\n",
    "a_np"
   ]
  },
  {
   "cell_type": "markdown",
   "metadata": {},
   "source": [
    "### Changing values of an array in-place"
   ]
  },
  {
   "cell_type": "code",
   "execution_count": null,
   "metadata": {},
   "outputs": [],
   "source": [
    "# just make a copy of our `a_np`, so that we don't change it\n",
    "b_np = a_np.copy()"
   ]
  },
  {
   "cell_type": "code",
   "execution_count": null,
   "metadata": {},
   "outputs": [],
   "source": [
    "# in `numpy` we can change the elements of the array\n",
    "b_np[1, 2] = 1000\n",
    "b_np"
   ]
  },
  {
   "cell_type": "code",
   "execution_count": null,
   "metadata": {},
   "outputs": [],
   "source": [
    "# in tensorflow, the tensors are basically immutable\n",
    "a_tf[1, 2] = 1000"
   ]
  },
  {
   "cell_type": "code",
   "execution_count": null,
   "metadata": {},
   "outputs": [],
   "source": [
    "# You can update the specific element but it is not in-place. \n",
    "# Tensorflow has to copy all the content to a new destination to do that, so it is slow! Do not use it!\n",
    "b_tf = tf.tensor_scatter_nd_update(a_tf, indices=[[1, 2]], updates=[1000])\n",
    "b_tf"
   ]
  },
  {
   "cell_type": "markdown",
   "metadata": {},
   "source": [
    "### Indexing by an integer array"
   ]
  },
  {
   "cell_type": "code",
   "execution_count": null,
   "metadata": {},
   "outputs": [],
   "source": [
    "indices = [1, 2, 1]"
   ]
  },
  {
   "cell_type": "code",
   "execution_count": null,
   "metadata": {},
   "outputs": [],
   "source": [
    "# in `numpy` we can simply take the elements of an array on given indices\n",
    "a_np[indices]"
   ]
  },
  {
   "cell_type": "code",
   "execution_count": null,
   "metadata": {},
   "outputs": [],
   "source": [
    "# in `tensorflow` we need to use `tf.gather`\n",
    "tf.gather(a_tf, indices)"
   ]
  },
  {
   "cell_type": "markdown",
   "metadata": {},
   "source": [
    "### Indexing by integer arrays in multiple dimensions"
   ]
  },
  {
   "cell_type": "code",
   "execution_count": null,
   "metadata": {},
   "outputs": [],
   "source": [
    "ii = [1, 3, 1, 2]\n",
    "jj = [0, 2, 2, 1]"
   ]
  },
  {
   "cell_type": "code",
   "execution_count": null,
   "metadata": {},
   "outputs": [],
   "source": [
    "# in `numpy` we can simply take the elements of an array on given indices\n",
    "a_np[ii, jj]"
   ]
  },
  {
   "cell_type": "code",
   "execution_count": null,
   "metadata": {},
   "outputs": [],
   "source": [
    "# in `tensorflow` we need to use `tf.gather_nd`\n",
    "indices=tf.stack([ii, jj], axis=-1)\n",
    "tf.gather_nd(a_tf, indices)"
   ]
  },
  {
   "cell_type": "markdown",
   "metadata": {},
   "source": [
    "### Indexing by a boolean array"
   ]
  },
  {
   "cell_type": "code",
   "execution_count": null,
   "metadata": {},
   "outputs": [],
   "source": [
    "mask = [True, False, True, False]"
   ]
  },
  {
   "cell_type": "code",
   "execution_count": null,
   "metadata": {},
   "outputs": [],
   "source": [
    "a_np[mask]"
   ]
  },
  {
   "cell_type": "code",
   "execution_count": null,
   "metadata": {},
   "outputs": [],
   "source": [
    "tf.boolean_mask(a_tf, mask)"
   ]
  },
  {
   "cell_type": "markdown",
   "metadata": {},
   "source": [
    "### Automatic change of `dtype`"
   ]
  },
  {
   "cell_type": "code",
   "execution_count": null,
   "metadata": {},
   "outputs": [],
   "source": [
    "# in `numpy` we can make arithmetic operations between different dtypes\n",
    "a_np + 3.1"
   ]
  },
  {
   "cell_type": "code",
   "execution_count": null,
   "metadata": {
    "scrolled": true
   },
   "outputs": [],
   "source": [
    "# this does not work in `tensorflow`\n",
    "a_tf + 3.1"
   ]
  },
  {
   "cell_type": "code",
   "execution_count": null,
   "metadata": {},
   "outputs": [],
   "source": [
    "# we must explicitly cast to the corresponding dtype \n",
    "tf.cast(a_tf, tf.float32) + 3.2"
   ]
  },
  {
   "cell_type": "code",
   "execution_count": null,
   "metadata": {
    "scrolled": true
   },
   "outputs": [],
   "source": [
    "# even this fails\n",
    "tf.cast(a_tf, tf.float32) + tf.cast(a_tf, tf.float64)"
   ]
  },
  {
   "cell_type": "markdown",
   "metadata": {},
   "source": [
    "### Reduction operators\n",
    "`np.sum, np.mean, np.all, ...` -> `tf.reduce_sum, tf.reduce_mean, ...`"
   ]
  },
  {
   "cell_type": "code",
   "execution_count": null,
   "metadata": {},
   "outputs": [],
   "source": [
    "np.sum(a_np)"
   ]
  },
  {
   "cell_type": "code",
   "execution_count": null,
   "metadata": {},
   "outputs": [],
   "source": [
    "tf.reduce_sum(a_tf)"
   ]
  },
  {
   "cell_type": "markdown",
   "metadata": {},
   "source": [
    "## Some useful algebraic stuff in `tensorflow` that is not in `numpy`\n",
    "Feel free to explore this on your own when you need it. It is just good to know it exists.\n",
    "##### sparse tensors\n",
    "I could not find a good tutorial. Here are some links:\n",
    "* https://www.tensorflow.org/api_docs/python/tf/sparse/SparseTensor \n",
    "* https://www.tensorflow.org/api_docs/python/tf/sparse\n",
    "\n",
    "For `numpy` there is https://docs.scipy.org/doc/scipy/reference/sparse.html but the organisation is quite different.\n",
    "\n",
    "##### ragged tensors \n",
    "* https://www.tensorflow.org/guide/ragged_tensor\n",
    "\n",
    "I don't know of any `numpy` anology.\n",
    "\n",
    "\n",
    "##### probability\n",
    "It is in a separate project `tensorflow-probability`. The most useful is the subpackage `distributions`.\n",
    "\n",
    "https://github.com/tensorflow/probability/blob/master/tensorflow_probability/examples/jupyter_notebooks/TensorFlow_Distributions_Tutorial.ipynb\n",
    "\n",
    "The `numpy` analogy is divided into `numpy.random` and `scipy.stats`. "
   ]
  },
  {
   "cell_type": "markdown",
   "metadata": {},
   "source": [
    "# Tensorflow exercise\n",
    "Define a function `quadratic_fun(a, b, c, x)` that evaluates a quadratic function in $n$-dimensional space. That is, for a given matrix $a \\in \\mathbb{R}^{n\\times n}$, vector $b\\in \\mathbb{R}^n$, scalar $c\\in\\mathbb{R}$ and another vector $x\\in\\mathbb{R}^n$ it returns a scalar $x^T a x + b^T x + c$. \n",
    "\n",
    "The implementation should be only in `tensorflow` and should not contain any `numpy` and no loops.\n",
    "\n",
    "**Harder version:**\n",
    "    Make it work also if `x` is a batch of vectors. That is if `x.shape == [10, 3]` we will treat it as 10 vectors in $\\mathbb{R}^3$ and will return a corresponding batch of scalars, i.e. a tensor of shape `[10]`. Similarly if `x.shape == [10, 5, 3]` we return tensor of shape `[10, 5]`."
   ]
  },
  {
   "cell_type": "code",
   "execution_count": null,
   "metadata": {},
   "outputs": [],
   "source": [
    "def quadratic_fun(a, b, c, x):\n",
    "    \"\"\" Evaluate quadratic function `x a x + b x + c`.\n",
    "    \n",
    "    Args:\n",
    "        a: tensor of shape `[n, n]`\n",
    "        b: tensor of shape `[n]`\n",
    "        c: scalar\n",
    "        x: tensor of shape `batch_shape + [n]`\n",
    "        \n",
    "    Returns:\n",
    "        tensor of shape `batch_shape`\n",
    "    \"\"\"\n",
    "    # Make sure all inputs are tensors of the same type\n",
    "    a, b, c, x = [tf.cast(y, K.floatx()) for y in [a, b, c, x]]\n",
    "    \n",
    "    # Check we have valid inputs\n",
    "    tf.assert_rank(a, 2)\n",
    "    tf.assert_rank(b, 1)\n",
    "    tf.assert_rank(c, 0)\n",
    "    \n",
    "    n = tf.shape(x)[-1]\n",
    "    tf.assert_equal(tf.shape(a), [n, n])\n",
    "    tf.assert_equal(tf.shape(b), [n])\n",
    "    \n",
    "    # Your code comes here\n",
    "    "
   ]
  },
  {
   "cell_type": "markdown",
   "metadata": {},
   "source": [
    "**Run the tests:**"
   ]
  },
  {
   "cell_type": "code",
   "execution_count": null,
   "metadata": {},
   "outputs": [],
   "source": [
    "assert np.allclose(\n",
    "    quadratic_fun(a=tf.linalg.diag([1, 2]), b=[0, 0], c=0, x=[1, 1]), \n",
    "    3)"
   ]
  },
  {
   "cell_type": "code",
   "execution_count": null,
   "metadata": {},
   "outputs": [],
   "source": [
    "assert np.allclose(\n",
    "    quadratic_fun(a=tf.zeros([2, 2]), b=[1, 3], c=0, x=[1, -1]), \n",
    "    -2)"
   ]
  },
  {
   "cell_type": "code",
   "execution_count": null,
   "metadata": {},
   "outputs": [],
   "source": [
    "assert np.allclose(\n",
    "    quadratic_fun(a=tf.zeros([2, 2]), b=[0, 0], c=10, x=[1, -1]), \n",
    "    10)"
   ]
  },
  {
   "cell_type": "markdown",
   "metadata": {},
   "source": [
    "**Tests for harder version:**"
   ]
  },
  {
   "cell_type": "code",
   "execution_count": null,
   "metadata": {},
   "outputs": [],
   "source": [
    "assert np.allclose(\n",
    "    quadratic_fun(a=tf.linalg.diag([1, 2]), b=[0, 0], c=0, x=[[1, 0], [0, 1], [1, 1]]), \n",
    "    [1, 2, 3])"
   ]
  },
  {
   "cell_type": "code",
   "execution_count": null,
   "metadata": {},
   "outputs": [],
   "source": [
    "assert quadratic_fun(a=tf.ones([5, 5]), b=tf.ones(5), c=0, x=tf.ones([10, 3, 5])).shape == [10, 3]"
   ]
  }
 ],
 "metadata": {
  "kernelspec": {
   "display_name": "Python 3",
   "language": "python",
   "name": "python3"
  },
  "language_info": {
   "codemirror_mode": {
    "name": "ipython",
    "version": 3
   },
   "file_extension": ".py",
   "mimetype": "text/x-python",
   "name": "python",
   "nbconvert_exporter": "python",
   "pygments_lexer": "ipython3",
   "version": "3.7.6"
  }
 },
 "nbformat": 4,
 "nbformat_minor": 4
}
